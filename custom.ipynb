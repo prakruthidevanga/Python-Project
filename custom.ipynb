{
 "cells": [
  {
   "cell_type": "code",
   "execution_count": 7,
   "id": "5c1aa9a5-0af3-4d89-a788-4e08e8641217",
   "metadata": {},
   "outputs": [],
   "source": [
    "import customfunction"
   ]
  },
  {
   "cell_type": "code",
   "execution_count": 9,
   "id": "fc402238-a506-4f36-b664-8174f4a216ea",
   "metadata": {},
   "outputs": [
    {
     "name": "stdout",
     "output_type": "stream",
     "text": [
      "hello prakruthi\n"
     ]
    }
   ],
   "source": [
    "customfunction.greet(\"prakruthi\")"
   ]
  },
  {
   "cell_type": "code",
   "execution_count": 11,
   "id": "99f565fc-7159-46fb-883b-066b31bc85b7",
   "metadata": {},
   "outputs": [
    {
     "data": {
      "text/plain": [
       "9"
      ]
     },
     "execution_count": 11,
     "metadata": {},
     "output_type": "execute_result"
    }
   ],
   "source": [
    "customfunction.abc(4,5)"
   ]
  },
  {
   "cell_type": "code",
   "execution_count": 13,
   "id": "2df225bc-4a14-4423-9d77-27d5d8158c42",
   "metadata": {},
   "outputs": [
    {
     "data": {
      "text/plain": [
       "24"
      ]
     },
     "execution_count": 13,
     "metadata": {},
     "output_type": "execute_result"
    }
   ],
   "source": [
    "customfunction.xyz(5,10)"
   ]
  },
  {
   "cell_type": "code",
   "execution_count": 15,
   "id": "2b8c7ea9-e66c-461f-b01a-e5e71f0abb76",
   "metadata": {},
   "outputs": [
    {
     "data": {
      "text/plain": [
       "21"
      ]
     },
     "execution_count": 15,
     "metadata": {},
     "output_type": "execute_result"
    }
   ],
   "source": [
    "customfunction.cde(5,10)"
   ]
  },
  {
   "cell_type": "code",
   "execution_count": 17,
   "id": "5f3c462f-a290-4fed-8b62-18868e281aec",
   "metadata": {},
   "outputs": [
    {
     "data": {
      "text/plain": [
       "120"
      ]
     },
     "execution_count": 17,
     "metadata": {},
     "output_type": "execute_result"
    }
   ],
   "source": [
    "customfunction.factorial(5)"
   ]
  },
  {
   "cell_type": "code",
   "execution_count": 19,
   "id": "69badcfc-6166-4192-80d1-734a792d96c5",
   "metadata": {},
   "outputs": [
    {
     "name": "stdout",
     "output_type": "stream",
     "text": [
      "not a prime number\n"
     ]
    }
   ],
   "source": [
    "customfunction.num(8)"
   ]
  },
  {
   "cell_type": "code",
   "execution_count": 21,
   "id": "1e09f5a3-509d-46b9-ba44-ab31d725ae96",
   "metadata": {},
   "outputs": [
    {
     "name": "stdout",
     "output_type": "stream",
     "text": [
      "5 postive and odd\n"
     ]
    }
   ],
   "source": [
    "customfunction.number(5)"
   ]
  },
  {
   "cell_type": "code",
   "execution_count": 23,
   "id": "794b62d9-414c-4c5d-b383-efb834d8600c",
   "metadata": {},
   "outputs": [
    {
     "name": "stdout",
     "output_type": "stream",
     "text": [
      "0 1 1 2 3 "
     ]
    }
   ],
   "source": [
    "customfunction.fib(5)"
   ]
  },
  {
   "cell_type": "code",
   "execution_count": 25,
   "id": "8b4dcdff-13dc-4982-86e1-6c050655bdd0",
   "metadata": {},
   "outputs": [
    {
     "name": "stdout",
     "output_type": "stream",
     "text": [
      "palindrome\n"
     ]
    }
   ],
   "source": [
    "customfunction.word(\"amma\")"
   ]
  },
  {
   "cell_type": "code",
   "execution_count": 27,
   "id": "eb419a68-e1ce-43e6-8121-a4b5947e377d",
   "metadata": {},
   "outputs": [
    {
     "data": {
      "text/plain": [
       "12"
      ]
     },
     "execution_count": 27,
     "metadata": {},
     "output_type": "execute_result"
    }
   ],
   "source": [
    "customfunction.HCF(36,60)"
   ]
  },
  {
   "cell_type": "code",
   "execution_count": null,
   "id": "628883d1-6fd3-4b73-ae38-da8d02b2cea1",
   "metadata": {},
   "outputs": [],
   "source": []
  }
 ],
 "metadata": {
  "kernelspec": {
   "display_name": "Python 3 (ipykernel)",
   "language": "python",
   "name": "python3"
  },
  "language_info": {
   "codemirror_mode": {
    "name": "ipython",
    "version": 3
   },
   "file_extension": ".py",
   "mimetype": "text/x-python",
   "name": "python",
   "nbconvert_exporter": "python",
   "pygments_lexer": "ipython3",
   "version": "3.12.4"
  }
 },
 "nbformat": 4,
 "nbformat_minor": 5
}
